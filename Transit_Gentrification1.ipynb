{
 "cells": [
  {
   "cell_type": "markdown",
   "id": "05177867-172a-402a-b41a-1f78307126d1",
   "metadata": {},
   "source": [
    "---\n",
    "Mapping Transit-induced Gentrification\n",
    "---"
   ]
  },
  {
   "cell_type": "markdown",
   "id": "72d9d8c8-d357-42c5-bc50-78bf31753ff6",
   "metadata": {},
   "source": [
    "## Introduction\n",
    "\n",
    "This hands-on exercise shows how to use Census API to get data from the Census Bureau and explore demographic changes over time near transit stops. Gentrification is a complex process that involves changes in the character of a neighborhood by means of increased property values or rent and new higher-income residents moving in. The multi-dimensional character of gentrification can be identified in diverse ways (Easton et al., 2020). For example, Freeman (2005) proposed to identify gentrifying neighborhoods by looking at age of housing stock, income, and education level of residents, and change in owner-occupied housing price. Studies usually look at changes in these variables between two time periods (Maciag, 2015; Desmond and Gershenson, 2017). The causes behind gentrification can also be diverse. Gentrification can happen due to transit investment (Dawkins and Moeckel, 2016), urban renewal programs (Mehdipanah et al., 2018), housing policy (Gelb and Lyons, 199), park location (Rigolon and Németh, 2020), tourism (Gotham, 2013), etc.\n",
    "\r\n",
    "This exercise focuses on transit-induced gentrification in Chicago, IL and shows a simple analytical approach to identify gentrifying neighborhoods. Although gentrification is a multi-dimensional phenomenon, in this exercise we will take only one indicator (education attainment) to identify areas which are most likely gentrifying. We will get data on population with bachelor’s degree or higher from the American Community Survey (ACS) of the US Census Bureau, at census tract level for two time periods (2010 and 2019). Changes in the share of population with bachelor’s degree or higher will be our measure of gentrification. We will then take locations of Chicago Transit Authority (CTA) train stations and overlay them on the map showing changes in bachelor’s degree or higher population to identify the areas which are most likely experiencing transit-induced gentrificatio.p\r\n"
   ]
  },
  {
   "cell_type": "markdown",
   "id": "aa690c4d-e542-46d3-a722-9b99eb312956",
   "metadata": {},
   "source": [
    "Here are the four key steps of this exercise:\n",
    "\n",
    "- Collect and calculate data for 2010 (2006-2010 ACS 5-year estimate) \n",
    "- Collect and calculate data for 2019 (2015-2019 ACS 5-year estimate)\n",
    "- Calculate change in % of population with bachelor’s degree or higher\n",
    "- Overlay CTA train stations on demographic change map"
   ]
  },
  {
   "cell_type": "markdown",
   "id": "9184ac2a-fe90-4941-a1dc-0fd0aa0a9fa3",
   "metadata": {},
   "source": [
    "<B> Loading required packages </B>\n",
    "\n",
    "If any of the packages is already not installed, use code: install.packages(\"package name\")"
   ]
  },
  {
   "cell_type": "code",
   "execution_count": null,
   "id": "44eb336f-b353-491d-a747-d56a3b21e8f7",
   "metadata": {},
   "outputs": [],
   "source": [
    "#install.packages(\"sf\")\n",
    "#install.packages(\"tidycensus\")\n",
    "#install.packages(\"tidyverse\")\n",
    "#install.packages(\"ggplot2\")\n",
    "#install.packages(\"leaflet\")\n",
    "\n",
    "library(sf)\n",
    "library(ggplot2)\n",
    "library(leaflet)\n",
    "library(tidycensus)\n",
    "library(tidyverse)"
   ]
  },
  {
   "cell_type": "markdown",
   "id": "9d39970e-92d8-4856-998a-71ede898f3cf",
   "metadata": {},
   "source": [
    "<b>Get 2010 ACS data using Census API</b>\n",
    "\n",
    "We will use tidycensus package to get ACS data. The tidycensus package (Walker and Herman, 2021) is designed to facilitate the process of acquiring and working with US Census Bureau population data in the R environment. With this package, R users can request geometry along with attributes for their Census data, helping facilitate mapping and spatial analysis. You can find the documentation on this package here: https://cran.r-project.org/web/packages/tidycensus/tidycensus.pdf \n",
    "Tidycensus uses Census Application Programming Interface (API) to get get any decennial or ACS data."
   ]
  },
  {
   "cell_type": "markdown",
   "id": "4307257b-2db9-4603-b225-dc272a313b39",
   "metadata": {},
   "source": [
    "API can help us to easily download data from census website without going through any interactive process of data selection. To do this, you will need to have a good idea about census data structure. APIs for different census data products are available here: https://www.census.gov/data/developers/data-sets.html "
   ]
  },
  {
   "cell_type": "markdown",
   "id": "fb75bcbf-7c83-43d3-b77a-3dd928e6b5fb",
   "metadata": {},
   "source": [
    "The Census API allows up to 500 queries per day without an API key. For more than 500 queries, you will need an API key. Get the API key from here: https://api.census.gov/data/key_signup.html. In a return email you will receive the API Key. Copy the key in the function below.\n",
    "\n",
    "census_api_key(\"Copy the API Key Here\", install = TRUE, overwrite = TRUE)\n",
    "\n",
    "Install=TRUE option will install they key on your computer and you can use the same API key for future use.\n"
   ]
  },
  {
   "cell_type": "markdown",
   "id": "299aa881-09e3-413b-ba03-393df6083f34",
   "metadata": {},
   "source": [
    "We will use get_acs() command from tidycensus package to get 2010 ACS data (2006-2010 ACS 5-year estimate)."
   ]
  },
  {
   "cell_type": "code",
   "execution_count": null,
   "id": "5376a7c5-5fa5-4931-9483-3b553286a878",
   "metadata": {},
   "outputs": [],
   "source": [
    "Pop25y10 <- get_acs(geography = \"tract\", variables = c(\"B23006_001\"), year = 2010, \n",
    "                     survey = \"acs5\", geometry=TRUE, state=17, county = 31)"
   ]
  },
  {
   "cell_type": "markdown",
   "id": "9307fd92-dd7d-4bd9-8a8c-acc700efdf3c",
   "metadata": {
    "collapsed": true,
    "jupyter": {
     "outputs_hidden": true
    }
   },
   "source": [
    "The above code downloaded 2010 ACS 5-year estimate (acs5) data at the census tract level for Cook county, IL (Chicago is located in Cook county). Notice that we used geometry=TRUE option, which allows getting census geometry along with the attributes. In this code, we downloaded population data of 25 to 64 years since ACS data reports education attainment for this age group. You can also look at the table IDs available on census website: https://api.census.gov/data/2010/acs/acs5/variables.html"
   ]
  },
  {
   "cell_type": "markdown",
   "id": "c3145847-0cb0-4bc2-8c60-1ff78ca54d94",
   "metadata": {},
   "source": [
    "If you want to do this analysis for any other county, you will need FIPS code of your County of interest. You can find the FIPS code here: https://www.nrcs.usda.gov/wps/portal/nrcs/detail/national/home/?cid=nrcs143_013697"
   ]
  },
  {
   "cell_type": "markdown",
   "id": "c61b94ff-1792-43fb-bee0-b55d9b5fb430",
   "metadata": {},
   "source": [
    "Since the downloaded data (Pop25y10) is an sf (simple feature) object, we need to convert it to a data frame for our calculation."
   ]
  },
  {
   "cell_type": "code",
   "execution_count": null,
   "id": "8b906640-9bcb-44ef-978f-2f880ff1bfe2",
   "metadata": {},
   "outputs": [],
   "source": [
    "Pop25y10.df <- as.data.frame(Pop25y10)"
   ]
  },
  {
   "cell_type": "markdown",
   "id": "5778ef38-4fbd-44ec-8b13-1c7670509b2b",
   "metadata": {},
   "source": [
    "Now we will create a new column (Tot25) that stores the 25 to 64 population estimate from ACS data. We only need GEOID and this new column for further calculation, so used select command to separate them to a new data frame (Pop25y10.df2). We then used head command to take a quick look at the table."
   ]
  },
  {
   "cell_type": "code",
   "execution_count": null,
   "id": "489202df-b781-4f2c-adc3-203b6100435d",
   "metadata": {},
   "outputs": [],
   "source": [
    "Pop25y10.df$Tot25 <- Pop25y10.df$estimate\n",
    "Pop25y10.df2 <- Pop25y10.df %>% select(\"GEOID\", \"Tot25\")\n",
    "head(Pop25y10.df2)"
   ]
  },
  {
   "cell_type": "markdown",
   "id": "1cc99199-c409-4fa3-b5af-8ea48ecc67c6",
   "metadata": {},
   "source": [
    "We will now use get_acs command to download populations with bachelor's or higher degree within 25 to 64 years of age population. Most options are same as discussed above, except we need to change the table ID for our variable."
   ]
  },
  {
   "cell_type": "code",
   "execution_count": null,
   "id": "621530a2-b380-495a-83e6-482c7c0999ad",
   "metadata": {},
   "outputs": [],
   "source": [
    "Bach25y10 <- get_acs(geography = \"tract\", variables = c(\"B23006_023\"), year = 2010, \n",
    "                     survey = \"acs5\", geometry=TRUE, state=17, county = 31)"
   ]
  },
  {
   "cell_type": "markdown",
   "id": "ba314bff-52c8-49f0-8f62-a9f66be19908",
   "metadata": {},
   "source": [
    "Now convert it to a data frame, calculate a new field (Bach25) that contains populations with bachelor's degree or higher, and then create another data frame selecting GEOID and the new field (Bach25) "
   ]
  },
  {
   "cell_type": "code",
   "execution_count": null,
   "id": "97d008a1-ab0e-450f-a1c9-894e777736e5",
   "metadata": {},
   "outputs": [],
   "source": [
    "Bach25y10.df <- as.data.frame(Bach25y10)\n",
    "Bach25y10.df$Bach25 <- Bach25y10.df$estimate\n",
    "Bach25y10.df2 <- Bach25y10.df %>% select(\"GEOID\", \"Bach25\")"
   ]
  },
  {
   "cell_type": "markdown",
   "id": "088edafd-6cbf-4659-8b3f-a747f0d72c9f",
   "metadata": {},
   "source": [
    "We will now merge the two data frames by GEOID, and used head command to take a look at the new table."
   ]
  },
  {
   "cell_type": "code",
   "execution_count": null,
   "id": "b5eebd71-aa27-454a-9765-bbb10738fc90",
   "metadata": {},
   "outputs": [],
   "source": [
    "BachDat10 <- merge(Pop25y10.df2, Bach25y10.df2, by=\"GEOID\")\n",
    "head(BachDat10)"
   ]
  },
  {
   "cell_type": "markdown",
   "id": "a3bf3d27-833b-4aea-9e0e-ba8d420a4d3b",
   "metadata": {},
   "source": [
    "Calculate a new field (PctBach10) for storing percent of population (25 to 64 years) with bachelor's degree or higher."
   ]
  },
  {
   "cell_type": "code",
   "execution_count": null,
   "id": "acc0b18f-c978-42d7-beef-2e62e17a7f07",
   "metadata": {},
   "outputs": [],
   "source": [
    "BachDat10$PctBach10 <- BachDat10$Bach25/BachDat10$Tot25*100\n",
    "head(BachDat10)"
   ]
  },
  {
   "cell_type": "markdown",
   "id": "c40c537a-463d-467b-9ddb-11d830c88dfc",
   "metadata": {},
   "source": [
    "Since this data frame does not contain any geometry attribute, we will merge it with a previous data frame (Pop25y10.df) that contains geometry attribute. We then convert it to an sf object (using st_as_sf command) to creae a map from the data."
   ]
  },
  {
   "cell_type": "code",
   "execution_count": null,
   "id": "7c0411e3-1d68-4f55-9bd9-cb3a189d8f28",
   "metadata": {
    "scrolled": true
   },
   "outputs": [],
   "source": [
    "Dat10 <- merge(Pop25y10.df, BachDat10, by=\"GEOID\")\n",
    "Dat10sf <- st_as_sf(Dat10)"
   ]
  },
  {
   "cell_type": "markdown",
   "id": "3d115d94-a337-4b75-8e99-5434e8abd059",
   "metadata": {},
   "source": [
    "Now we will create a map of % population with bachelor's degree or higher using ggplot2."
   ]
  },
  {
   "cell_type": "code",
   "execution_count": null,
   "id": "ca1dab8c-203d-4cbc-b15f-7cb530b0f616",
   "metadata": {},
   "outputs": [],
   "source": [
    "Dat10sf %>%\n",
    "  ggplot(aes(fill = PctBach10)) + \n",
    "  geom_sf() + \n",
    "  scale_fill_viridis_c(option = \"magma\") "
   ]
  },
  {
   "cell_type": "markdown",
   "id": "3b6f2b6b-d9f6-4b45-b2b6-b7f6f5e39a4a",
   "metadata": {},
   "source": [
    "<b>Get 2019 ACS data using Census API</b>\n",
    "\n",
    "Following similar approach for 2010 data (as shown above), we will now get 2019 ACS data (2015-2019 acs 5-year estimate) and do the necessary calculations."
   ]
  },
  {
   "cell_type": "code",
   "execution_count": null,
   "id": "a3543252-09fa-4003-bdf3-00fe59b154bd",
   "metadata": {},
   "outputs": [],
   "source": [
    "Pop25y19 <- get_acs(geography = \"tract\", variables = c(\"B23006_001\"), year = 2019, \n",
    "                     survey = \"acs5\", geometry=TRUE, state=17, county = 31)"
   ]
  },
  {
   "cell_type": "markdown",
   "id": "29c5d572-f217-46b0-98f6-a5afcbaea389",
   "metadata": {},
   "source": [
    "Convert the sf object (Pop25y19) to a data frame, store total population estimate (25-64 years) to a new field, and then create a new data frame with GEOID and the calculated field (Tot25)"
   ]
  },
  {
   "cell_type": "code",
   "execution_count": null,
   "id": "a8c96c26-dc94-4865-a769-45ca187dc74a",
   "metadata": {},
   "outputs": [],
   "source": [
    "Pop25y19.df <- as.data.frame(Pop25y19)\n",
    "Pop25y19.df$Tot25 <- Pop25y19.df$estimate\n",
    "Pop25y19.df2 <- Pop25y19.df %>% select(\"GEOID\", \"Tot25\")\n",
    "head(Pop25y19.df2)"
   ]
  },
  {
   "cell_type": "markdown",
   "id": "70dd14a1-4041-4701-ab17-6f56583c47a6",
   "metadata": {},
   "source": [
    "Similar approach to download populations with bachelor's degree or higher data using get_acs command."
   ]
  },
  {
   "cell_type": "code",
   "execution_count": null,
   "id": "ede0d137-f0c2-4a89-b099-00552d2f5292",
   "metadata": {},
   "outputs": [],
   "source": [
    "Bach25y19 <- get_acs(geography = \"tract\", variables = c(\"B23006_023\"), year = 2019, \n",
    "                     survey = \"acs5\", geometry=TRUE, state=17, county = 31)"
   ]
  },
  {
   "cell_type": "markdown",
   "id": "7fb46ca3-2631-426c-a31a-718d83976865",
   "metadata": {},
   "source": [
    "Create a new data frame with GEOID and a new field (Bach25) for populations with bachelor's or higher degree"
   ]
  },
  {
   "cell_type": "code",
   "execution_count": null,
   "id": "09ddaecb-df2a-4dfa-a9f4-71fb2fe80f11",
   "metadata": {},
   "outputs": [],
   "source": [
    "Bach25y19.df <- as.data.frame(Bach25y19)\n",
    "Bach25y19.df$Bach25 <- Bach25y19.df$estimate\n",
    "Bach25y19.df2 <- Bach25y19.df %>% select(\"GEOID\", \"Bach25\")"
   ]
  },
  {
   "cell_type": "markdown",
   "id": "aebfd21d-cf49-475b-b411-fa011c621109",
   "metadata": {},
   "source": [
    "Calculate percentage of population with bachelor's degree or higher education attainment."
   ]
  },
  {
   "cell_type": "code",
   "execution_count": null,
   "id": "d731b24f-9fba-4b0e-8e4e-d6130f22a201",
   "metadata": {},
   "outputs": [],
   "source": [
    "BachDat19 <- merge(Pop25y19.df2, Bach25y19.df2, by=\"GEOID\")\n",
    "BachDat19$PctBach19 <- BachDat19$Bach25/BachDat19$Tot25*100\n",
    "head(BachDat19)"
   ]
  },
  {
   "cell_type": "markdown",
   "id": "a5659ccd-e415-4e2a-84b0-14e18fc243e0",
   "metadata": {},
   "source": [
    "Create an sf object (Dat19sf) with the calculated variable"
   ]
  },
  {
   "cell_type": "code",
   "execution_count": null,
   "id": "a8e7345e-5d3b-4da2-8ca8-a5c9795741ef",
   "metadata": {},
   "outputs": [],
   "source": [
    "Dat19 <- merge(Pop25y19.df, BachDat19, by=\"GEOID\")\n",
    "Dat19sf <- st_as_sf(Dat19)"
   ]
  },
  {
   "cell_type": "markdown",
   "id": "173a3e11-9824-4008-a54b-a187271e57ee",
   "metadata": {},
   "source": [
    "Now create a map of % population with bachelor's degree or higher at the census tract level."
   ]
  },
  {
   "cell_type": "code",
   "execution_count": null,
   "id": "5c2bdfde-ca64-4617-a9a7-c9d01b5da1e1",
   "metadata": {},
   "outputs": [],
   "source": [
    "Dat19sf %>%\n",
    "  ggplot(aes(fill = PctBach19)) + \n",
    "  geom_sf() + \n",
    "  scale_fill_viridis_c(option = \"magma\") "
   ]
  },
  {
   "cell_type": "markdown",
   "id": "69618540-0276-4878-be39-8d38f6643a50",
   "metadata": {},
   "source": [
    "<b> Calculate and map demographic change </b>\n",
    "\n",
    "We will now calculate demographic change (i.e., change in % population with bachelor's degree or higher) using the data for two years we calculated before. First, we will merge the two data frames by GEOID and then create a new field (BachDiff) to store the difference in share of population with bachelor's degree or higher."
   ]
  },
  {
   "cell_type": "code",
   "execution_count": null,
   "id": "6ab7e97d-d437-4fbb-b250-50f72321a320",
   "metadata": {},
   "outputs": [],
   "source": [
    "DatAll <- merge (Dat19, Dat10, by=\"GEOID\")\n",
    "DatAll$BachDiff <- DatAll$PctBach19-DatAll$PctBach10"
   ]
  },
  {
   "cell_type": "markdown",
   "id": "e935c491-e088-4876-9cdd-3a14e0f8f38a",
   "metadata": {},
   "source": [
    "Let's take a quick look at the new variable to decide how should we map it."
   ]
  },
  {
   "cell_type": "code",
   "execution_count": null,
   "id": "e331a553-5cd3-40ab-a844-799bcd4bff73",
   "metadata": {},
   "outputs": [],
   "source": [
    "hist(DatAll$BachDiff)"
   ]
  },
  {
   "cell_type": "markdown",
   "id": "d94b6d37-dfaf-4872-9711-6da019870f32",
   "metadata": {},
   "source": [
    "Now we will convert the above data frame (DatAll) to an sf object (DatAll.sf) to create a map showing the change in % population with bachelor's degree or higher. "
   ]
  },
  {
   "cell_type": "code",
   "execution_count": null,
   "id": "b60529a8-1e4e-453c-b120-617eb2096c51",
   "metadata": {},
   "outputs": [],
   "source": [
    "DatAll.sf <-st_as_sf(DatAll)\n",
    "DatAll.sf %>%\n",
    "  ggplot(aes(fill = BachDiff)) + \n",
    "  geom_sf() + \n",
    "  scale_fill_viridis_c(option = \"turbo\") "
   ]
  },
  {
   "cell_type": "markdown",
   "id": "dc32ac0f-61a8-4604-a76e-65f523b2515f",
   "metadata": {},
   "source": [
    "The map created above shows the areas where more educated populations moved in between 2010 and 2019, indicating potential areas where gentrification might be happening."
   ]
  },
  {
   "cell_type": "markdown",
   "id": "29b96eac-5c85-4b6c-a1f3-dc2031d9483c",
   "metadata": {},
   "source": [
    "<b>Map overlay with transit stops </b>\n",
    "\n",
    "We will now overlay CTA train station locations with demographic change map created in the previous step to identify areas where the train stations may have contributed to gentrification."
   ]
  },
  {
   "cell_type": "markdown",
   "id": "9b830b05-dfbb-4a84-91ab-ba5fe4377d29",
   "metadata": {},
   "source": [
    "First, we will read a shapefile that contains all the CTA train station locations. This data was collected from the City of Chicago Data Portal, availabe here: https://data.cityofchicago.org/dataset/CTA-L-Rail-Stations-Shapefile/vmyy-m9qj/about_data "
   ]
  },
  {
   "cell_type": "code",
   "execution_count": null,
   "id": "8d458ce0-c014-42ed-93e8-7f49fce2a3b6",
   "metadata": {
    "scrolled": true
   },
   "outputs": [],
   "source": [
    "CTA_stops <- st_read(\"Data/CTA_Stations.shp\")"
   ]
  },
  {
   "cell_type": "markdown",
   "id": "9e517e8e-ff5e-4e06-8f0d-89f1e6f001b3",
   "metadata": {},
   "source": [
    "Let's create a map of the stations only to check out the data."
   ]
  },
  {
   "cell_type": "code",
   "execution_count": null,
   "id": "7ec86e22-6685-4dda-bce8-073404558261",
   "metadata": {},
   "outputs": [],
   "source": [
    "ggplot(CTA_stops)+\n",
    "geom_sf(size=3)"
   ]
  },
  {
   "cell_type": "markdown",
   "id": "f66c5408-8570-4708-9738-2fd15e453f4c",
   "metadata": {},
   "source": [
    "Now we will overlay these stop locations on the demographic change map created in the previous step."
   ]
  },
  {
   "cell_type": "code",
   "execution_count": null,
   "id": "97445715-014f-481c-8218-e4d610cb91f6",
   "metadata": {},
   "outputs": [],
   "source": [
    "ggplot() + \n",
    "  geom_sf(data=DatAll.sf, aes(fill = BachDiff)) + \n",
    "  scale_fill_viridis_c(option = \"turbo\")+\n",
    "  geom_sf(data=CTA_stops, size = 2, alpha = 0.5)"
   ]
  },
  {
   "cell_type": "markdown",
   "id": "5d007f1e-206c-4fa7-a897-ce109736162e",
   "metadata": {},
   "source": [
    "As the above map shows, some of the gentrifying areas, primarily areas in the north-west from downtown are overlapping with the CTA stations. We can create an interactive map to explore it more."
   ]
  },
  {
   "cell_type": "markdown",
   "id": "6abdaf0c-9b59-40f9-8927-8b6a42c0f293",
   "metadata": {},
   "source": [
    "We need to transform the projection of our demographic change map (DatAll.sf) to a geographic coordinate system to make it consistent with the CTA station map."
   ]
  },
  {
   "cell_type": "code",
   "execution_count": null,
   "id": "c3a9c5a9-f20b-43d8-bb62-bb24d1c69de6",
   "metadata": {},
   "outputs": [],
   "source": [
    "DatAll.sf2 <- st_transform (DatAll.sf, 4326)"
   ]
  },
  {
   "cell_type": "markdown",
   "id": "a950e1bd-44e2-4414-af03-fc8d57df592e",
   "metadata": {},
   "source": [
    "Now we will use leaflet package to create an interactive map where we can zoom in and out to further explore whether CTA stations overlap with gentrifying areas."
   ]
  },
  {
   "cell_type": "code",
   "execution_count": null,
   "id": "d1836b33-993e-4452-afd2-2d683e08898d",
   "metadata": {},
   "outputs": [],
   "source": [
    "bins <- c(50, 40, 20, 10, 0, -10, -20, -30)\n",
    "pal <- colorBin(\"RdYlBu\", domain = DatAll.sf2$BachDiff, bins = bins, reverse=TRUE)\n",
    "\n",
    "m <- leaflet() %>%\n",
    "  addTiles() %>%  # Add default OpenStreetMap map tiles\n",
    "  addPolygons(data=DatAll.sf2, fillColor = ~pal(BachDiff), fillOpacity = 0.6, stroke=FALSE) %>%\n",
    "  addCircles(lng=CTA_stops$long, lat=CTA_stops$lat, popup=CTA_stops$LINES, radius=2, opacity =0.7, fill = TRUE) %>% \n",
    "  addLegend(position = \"bottomright\", pal = pal, values = DatAll.sf2$BachDiff, title=\"Change in %Bachelor degree or higher\", opacity = 0.7, )\n",
    "m"
   ]
  },
  {
   "cell_type": "markdown",
   "id": "68b1f91c-12de-4347-9e70-0f1494a91125",
   "metadata": {},
   "source": [
    "The interactive map shows that some areas along Blue line stations (going to O'Hare airport) experienced more concentration of highly educated populations (bachelor's degree or higher) between 2010 and 2019 compared to other areas. However, stations along most other lines do not show any significant change in their neighboring areas."
   ]
  },
  {
   "cell_type": "markdown",
   "id": "4fa8ff3d-f6b2-4a25-8bb1-3cf5da0edd30",
   "metadata": {},
   "source": [
    "<b> Reflection and challenge tasks </b>\n",
    "\n",
    "This exercise shows a simplified way to identify gentrifying areas based on only one indicator. However, gentrification is a multi-dimensional phenomenon and it cannot be measured by one variable only. Increased concentration of highly educated population does not confirm that gentrification is happening in those areas. This exercise can be further expanded by incorporating data on income level, race/ethnicity, home value, housing stock, etc. It can also be implemented for any other city."
   ]
  },
  {
   "cell_type": "markdown",
   "id": "2dbf71f5-3789-4d91-bee7-661f2ca20401",
   "metadata": {},
   "source": [
    "# References\n",
    "\n",
    "Dawkins, C., & Moeckel, R. (2016). Transit-induced gentrification: Who will stay, and who will go?. Housing Policy Debate, 26(4-5), 801-818.\n",
    "\n",
    "Desmond M, Gershenson C (2017) Who gets evicted? Assessing individual, neighborhood, and network factors. Social Science Research 62: 362–377.\n",
    "\n",
    "Easton, S., Lees, L., Hubbard, P., & Tate, N. (2020). Measuring and mapping displacement: The problem of quantification in the battle against gentrification. Urban studies, 57(2), 286-306.\n",
    "\n",
    "Freeman L (2005) Displacement or succession? Urban Affairs Review 40: 463–491.\n",
    "\n",
    "Gelb, J., & Lyons, M. (1993). A tale of two cities: housing policy and gentrification in London and New York. Journal of Urban Affairs, 15(4), 345-366.\n",
    "\n",
    "Gotham, K. F. (2013). Tourism gentrification: The case of new Orleans' vieux carre (French Quarter). In The Gentrification Debates (pp. 145-165). Routledge.\n",
    "\n",
    "Maciag M (2015) Gentrification in America report: Governing the states and localities. Available at: https://www.governing.com/gov-data/census/gentrification-in-cities-governing-report.htm\n",
    "\n",
    "Rigolon, A., & Németh, J. (2020). Green gentrification or ‘just green enough’: Do park location, size and function affect whether a place gentrifies or not?. Urban Studies, 57(2), 402-420.\n",
    "\n",
    "Walker, K., & Herman, M. (2021). tidycensus: Load US Census Boundary and Attribute Data as ’Tidyverse’ and ’Sf’ -Ready Data Frames. https://github.com/walkerke/tidycensus.\n",
    "\n"
   ]
  }
 ],
 "metadata": {
  "kernelspec": {
   "display_name": "iguide-ewd-r",
   "language": "R",
   "name": "iguide-ewd-r"
  },
  "language_info": {
   "codemirror_mode": "r",
   "file_extension": ".r",
   "mimetype": "text/x-r-source",
   "name": "R",
   "pygments_lexer": "r",
   "version": "4.3.1"
  }
 },
 "nbformat": 4,
 "nbformat_minor": 5
}
